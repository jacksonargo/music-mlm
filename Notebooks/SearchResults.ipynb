{
 "cells": [
  {
   "cell_type": "code",
   "execution_count": 1,
   "id": "91edcafa-aacb-4db1-b4d1-554e74a5f93a",
   "metadata": {},
   "outputs": [],
   "source": [
    "from pathlib import Path\n",
    "import json\n",
    "from transformers import AutoModelForMaskedLM\n",
    "from model.config import MUSIC_MLM"
   ]
  },
  {
   "cell_type": "code",
   "execution_count": 2,
   "id": "500c7022-caeb-413c-ba3e-6ba50e63506c",
   "metadata": {},
   "outputs": [],
   "source": [
    "data = []\n",
    "for path in Path('param_search_checkpoints').glob('**/evaluation.json'):\n",
    "    with open(path, 'r') as fp:\n",
    "        data += [json.loads(fp.read())]\n",
    "        \n",
    "with open(\"param_search_results.json\", \"w\") as fp:\n",
    "    fp.write(json.dumps(data))"
   ]
  },
  {
   "cell_type": "code",
   "execution_count": 3,
   "id": "9f48fa08-c6b9-48b1-916c-59f8b81fc74b",
   "metadata": {},
   "outputs": [
    {
     "data": {
      "text/plain": [
       "[{'params': {'learning_rate': 5e-05, 'batch_size': 16, 'num_epoch': 5},\n",
       "  'evaluation': {'eval_loss': 2.4115779399871826,\n",
       "   'eval_runtime': 465.6226,\n",
       "   'eval_samples_per_second': 45.631,\n",
       "   'eval_steps_per_second': 2.852,\n",
       "   'epoch': 5.0}},\n",
       " {'params': {'learning_rate': 5e-05, 'batch_size': 32, 'num_epoch': 5},\n",
       "  'evaluation': {'eval_loss': 2.439094066619873,\n",
       "   'eval_runtime': 470.5162,\n",
       "   'eval_samples_per_second': 45.157,\n",
       "   'eval_steps_per_second': 1.411,\n",
       "   'epoch': 5.0}},\n",
       " {'params': {'learning_rate': 3e-05, 'batch_size': 16, 'num_epoch': 5},\n",
       "  'evaluation': {'eval_loss': 2.4406790733337402,\n",
       "   'eval_runtime': 499.7152,\n",
       "   'eval_samples_per_second': 42.518,\n",
       "   'eval_steps_per_second': 2.658,\n",
       "   'epoch': 5.0}}]"
      ]
     },
     "execution_count": 3,
     "metadata": {},
     "output_type": "execute_result"
    }
   ],
   "source": [
    "data.sort(key=lambda x: x['evaluation']['eval_loss'])\n",
    "data[:3]"
   ]
  },
  {
   "cell_type": "code",
   "execution_count": 4,
   "id": "6f546824-8c94-4557-9428-74e8623535b6",
   "metadata": {},
   "outputs": [],
   "source": [
    "model = AutoModelForMaskedLM.from_pretrained('param_search_checkpoints/num_epoch=5/batch_size=16/learning_rate=5e-05')\n",
    "model.push_to_hub(MUSIC_MLM)"
   ]
  }
 ],
 "metadata": {
  "kernelspec": {
   "display_name": "Python 3",
   "language": "python",
   "name": "python3"
  },
  "language_info": {
   "codemirror_mode": {
    "name": "ipython",
    "version": 3
   },
   "file_extension": ".py",
   "mimetype": "text/x-python",
   "name": "python",
   "nbconvert_exporter": "python",
   "pygments_lexer": "ipython3",
   "version": "3.8.8"
  }
 },
 "nbformat": 4,
 "nbformat_minor": 5
}