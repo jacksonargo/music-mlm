{
 "cells": [
  {
   "cell_type": "markdown",
   "id": "09e9513e-fbc2-4c24-ab6d-7f04780fd74e",
   "metadata": {},
   "source": [
    "# Development"
   ]
  },
  {
   "cell_type": "code",
   "execution_count": 1,
   "id": "59f0de4b-e286-4707-993e-a1f8133bcc1f",
   "metadata": {},
   "outputs": [],
   "source": [
    "import sys \n",
    "sys.path.append(\"../\")"
   ]
  },
  {
   "cell_type": "code",
   "execution_count": 2,
   "id": "1a67d567-8e48-49b6-abe9-47fa408c7c34",
   "metadata": {},
   "outputs": [],
   "source": [
    "from sklearn.model_selection import train_test_split\n",
    "from transformers import AutoModelForMaskedLM, Trainer\n",
    "\n",
    "from model.config import DISTILBERT_BASE_UNCASED, training_args\n",
    "from model.data_collator import data_collator\n",
    "from model.data_split import train_sentences\n",
    "from model.tokenizer import tokenize_sentences, tokenizer"
   ]
  },
  {
   "cell_type": "code",
   "execution_count": 3,
   "id": "8dace912-87ef-422c-856f-dc2c7ba85fee",
   "metadata": {},
   "outputs": [],
   "source": [
    "mini_train_sentences, mini_eval_sentences = train_test_split(train_sentences[0:100])\n",
    "mini_train_tokenized = tokenize_sentences(mini_train_sentences)\n",
    "mini_eval_tokenized = tokenize_sentences(mini_eval_sentences)"
   ]
  },
  {
   "cell_type": "code",
   "execution_count": 4,
   "id": "e57d2871-2922-488b-a95c-68da1f9a3d40",
   "metadata": {
    "tags": []
   },
   "outputs": [],
   "source": [
    "mini_model = AutoModelForMaskedLM.from_pretrained(DISTILBERT_BASE_UNCASED)\n",
    "training_args.output_dir = \"mini_model_training\"\n",
    "\n",
    "mini_trainer = Trainer(\n",
    "    model=mini_model,\n",
    "    args=training_args,\n",
    "    train_dataset=mini_train_tokenized,\n",
    "    eval_dataset=mini_eval_tokenized,\n",
    "    data_collator=data_collator,\n",
    ")"
   ]
  },
  {
   "cell_type": "code",
   "execution_count": 5,
   "id": "38d3715e-4287-4332-acb1-1e971880b251",
   "metadata": {
    "tags": []
   },
   "outputs": [
    {
     "name": "stderr",
     "output_type": "stream",
     "text": [
      "***** Running training *****\n",
      "  Num examples = 75\n",
      "  Num Epochs = 5\n",
      "  Instantaneous batch size per device = 16\n",
      "  Total train batch size (w. parallel, distributed & accumulation) = 16\n",
      "  Gradient Accumulation steps = 1\n",
      "  Total optimization steps = 25\n"
     ]
    },
    {
     "data": {
      "text/html": [
       "\n",
       "    <div>\n",
       "      \n",
       "      <progress value='25' max='25' style='width:300px; height:20px; vertical-align: middle;'></progress>\n",
       "      [25/25 00:32, Epoch 5/5]\n",
       "    </div>\n",
       "    <table border=\"1\" class=\"dataframe\">\n",
       "  <thead>\n",
       "    <tr style=\"text-align: left;\">\n",
       "      <th>Epoch</th>\n",
       "      <th>Training Loss</th>\n",
       "      <th>Validation Loss</th>\n",
       "    </tr>\n",
       "  </thead>\n",
       "  <tbody>\n",
       "    <tr>\n",
       "      <td>1</td>\n",
       "      <td>No log</td>\n",
       "      <td>3.227912</td>\n",
       "    </tr>\n",
       "    <tr>\n",
       "      <td>2</td>\n",
       "      <td>No log</td>\n",
       "      <td>2.971653</td>\n",
       "    </tr>\n",
       "    <tr>\n",
       "      <td>3</td>\n",
       "      <td>No log</td>\n",
       "      <td>3.085180</td>\n",
       "    </tr>\n",
       "    <tr>\n",
       "      <td>4</td>\n",
       "      <td>No log</td>\n",
       "      <td>2.910129</td>\n",
       "    </tr>\n",
       "    <tr>\n",
       "      <td>5</td>\n",
       "      <td>No log</td>\n",
       "      <td>3.589861</td>\n",
       "    </tr>\n",
       "  </tbody>\n",
       "</table><p>"
      ],
      "text/plain": [
       "<IPython.core.display.HTML object>"
      ]
     },
     "metadata": {},
     "output_type": "display_data"
    },
    {
     "name": "stderr",
     "output_type": "stream",
     "text": [
      "***** Running Evaluation *****\n",
      "  Num examples = 25\n",
      "  Batch size = 16\n",
      "***** Running Evaluation *****\n",
      "  Num examples = 25\n",
      "  Batch size = 16\n",
      "***** Running Evaluation *****\n",
      "  Num examples = 25\n",
      "  Batch size = 16\n",
      "***** Running Evaluation *****\n",
      "  Num examples = 25\n",
      "  Batch size = 16\n",
      "***** Running Evaluation *****\n",
      "  Num examples = 25\n",
      "  Batch size = 16\n",
      "\n",
      "\n",
      "Training completed. Do not forget to share your model on huggingface.co/models =)\n",
      "\n",
      "\n",
      "Saving model checkpoint to mini_trainer_checkpoint\n",
      "Configuration saved in mini_trainer_checkpoint/config.json\n",
      "Model weights saved in mini_trainer_checkpoint/pytorch_model.bin\n"
     ]
    }
   ],
   "source": [
    "mini_trainer.train()\n",
    "mini_trainer.save_model(\"mini_trainer_checkpoint\")"
   ]
  },
  {
   "cell_type": "code",
   "execution_count": 6,
   "id": "2dbe0b99-856a-4f2e-ab21-276c8aa102a3",
   "metadata": {},
   "outputs": [
    {
     "name": "stderr",
     "output_type": "stream",
     "text": [
      "***** Running Evaluation *****\n",
      "  Num examples = 25\n",
      "  Batch size = 16\n"
     ]
    },
    {
     "data": {
      "text/html": [
       "\n",
       "    <div>\n",
       "      \n",
       "      <progress value='2' max='2' style='width:300px; height:20px; vertical-align: middle;'></progress>\n",
       "      [2/2 00:00]\n",
       "    </div>\n",
       "    "
      ],
      "text/plain": [
       "<IPython.core.display.HTML object>"
      ]
     },
     "metadata": {},
     "output_type": "display_data"
    },
    {
     "data": {
      "text/plain": [
       "{'eval_loss': 2.918678045272827,\n",
       " 'eval_runtime': 0.6,\n",
       " 'eval_samples_per_second': 41.664,\n",
       " 'eval_steps_per_second': 3.333,\n",
       " 'epoch': 5.0}"
      ]
     },
     "execution_count": 6,
     "metadata": {},
     "output_type": "execute_result"
    }
   ],
   "source": [
    "mini_trainer.evaluate()"
   ]
  },
  {
   "cell_type": "code",
   "execution_count": 7,
   "id": "d81b583e-3ef6-4227-af20-88d87ffe592c",
   "metadata": {},
   "outputs": [
    {
     "data": {
      "text/plain": [
       "[{'sequence': \"hello i'm a role model.\",\n",
       "  'score': 0.07971620559692383,\n",
       "  'token': 2535,\n",
       "  'token_str': 'r o l e'},\n",
       " {'sequence': \"hello i'm a business model.\",\n",
       "  'score': 0.06690440326929092,\n",
       "  'token': 2449,\n",
       "  'token_str': 'b u s i n e s s'},\n",
       " {'sequence': \"hello i'm a good model.\",\n",
       "  'score': 0.035355184227228165,\n",
       "  'token': 2204,\n",
       "  'token_str': 'g o o d'},\n",
       " {'sequence': \"hello i'm a new model.\",\n",
       "  'score': 0.032671455293893814,\n",
       "  'token': 2047,\n",
       "  'token_str': 'n e w'},\n",
       " {'sequence': \"hello i'm a fashion model.\",\n",
       "  'score': 0.03203974664211273,\n",
       "  'token': 4827,\n",
       "  'token_str': 'f a s h i o n'}]"
      ]
     },
     "execution_count": 7,
     "metadata": {},
     "output_type": "execute_result"
    }
   ],
   "source": [
    "from transformers import pipeline\n",
    "\n",
    "unmasker = pipeline('fill-mask', model=mini_model, tokenizer=tokenizer)\n",
    "unmasker(\"Hello I'm a [MASK] model.\")"
   ]
  },
  {
   "cell_type": "code",
   "execution_count": 8,
   "id": "c69edb76-2fef-4309-a3e7-932a82494891",
   "metadata": {},
   "outputs": [
    {
     "data": {
      "text/plain": [
       "[{'sequence': 'a person tries to compress sounds that are too loud.',\n",
       "  'score': 0.12533654272556305,\n",
       "  'token': 2711,\n",
       "  'token_str': 'p e r s o n'},\n",
       " {'sequence': 'a speaker tries to compress sounds that are too loud.',\n",
       "  'score': 0.05781891942024231,\n",
       "  'token': 5882,\n",
       "  'token_str': 's p e a k e r'},\n",
       " {'sequence': 'a musician tries to compress sounds that are too loud.',\n",
       "  'score': 0.05304500088095665,\n",
       "  'token': 5455,\n",
       "  'token_str': 'm u s i c i a n'},\n",
       " {'sequence': 'a user tries to compress sounds that are too loud.',\n",
       "  'score': 0.052762314677238464,\n",
       "  'token': 5310,\n",
       "  'token_str': 'u s e r'},\n",
       " {'sequence': 'a player tries to compress sounds that are too loud.',\n",
       "  'score': 0.034627556800842285,\n",
       "  'token': 2447,\n",
       "  'token_str': 'p l a y e r'}]"
      ]
     },
     "execution_count": 8,
     "metadata": {},
     "output_type": "execute_result"
    }
   ],
   "source": [
    "unmasker(\"A [MASK] tries to compress sounds that are too loud.\")"
   ]
  },
  {
   "cell_type": "code",
   "execution_count": null,
   "id": "172663c2-31a7-48c6-9bcc-8d82ac05d9a3",
   "metadata": {},
   "outputs": [],
   "source": []
  }
 ],
 "metadata": {
  "kernelspec": {
   "display_name": "Python 3",
   "language": "python",
   "name": "python3"
  },
  "language_info": {
   "codemirror_mode": {
    "name": "ipython",
    "version": 3
   },
   "file_extension": ".py",
   "mimetype": "text/x-python",
   "name": "python",
   "nbconvert_exporter": "python",
   "pygments_lexer": "ipython3",
   "version": "3.8.8"
  }
 },
 "nbformat": 4,
 "nbformat_minor": 5
}
